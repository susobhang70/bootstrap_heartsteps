{
 "cells": [
  {
   "cell_type": "code",
   "execution_count": null,
   "metadata": {},
   "outputs": [],
   "source": [
    "import pandas as pd\n",
    "import pickle as pkl\n",
    "import numpy as np\n",
    "import rpy2.robjects as robjects\n",
    "from collections import OrderedDict\n",
    "import scipy.stats as stats\n",
    "import scipy.linalg as linalg"
   ]
  },
  {
   "cell_type": "code",
   "execution_count": null,
   "metadata": {},
   "outputs": [],
   "source": [
    "PKL_DATA_PATH = \"/Users/sghosh/Dropbox (Harvard University)/HeartStepsV2V3/Susobhan/all91.pkl\"\n",
    "PRIOR_DATA_PATH = \"/Users/sghosh/Dropbox (Harvard University)/HeartStepsV2V3/Susobhan/bandit-prior.RData\"\n",
    "NDAYS = 90\n",
    "NUSERS = 91\n",
    "NTIMES = 5\n",
    "\n",
    "LAMBDA = 0.95\n",
    "\n",
    "F_KEYS = [\"intercept\", \"dosage\", \"engagement\", \"other_location\", \"variation\"]\n",
    "G_KEYS = [\"intercept\", \"dosage\", \"engagement\", \"other_location\", \"variation\", \"temperature\", \"logpresteps\", \"sqrt_totalsteps\"]\n",
    "\n",
    "E0 = 0.2\n",
    "E1 = 0.1"
   ]
  },
  {
   "cell_type": "code",
   "execution_count": null,
   "metadata": {},
   "outputs": [],
   "source": [
    "# Load data\n",
    "def load_data():\n",
    "    with open(PKL_DATA_PATH, \"rb\") as f:\n",
    "        data = pkl.load(f)\n",
    "    return data"
   ]
  },
  {
   "cell_type": "code",
   "execution_count": null,
   "metadata": {},
   "outputs": [],
   "source": [
    "def determine_user_state(data, dosage):\n",
    "    '''Determine the state of each user at each time point'''\n",
    "    availability = data[2]\n",
    "\n",
    "    features = {}\n",
    "\n",
    "    features[\"engagement\"] = data[7]\n",
    "    features[\"other_location\"] = data[8]\n",
    "    # features[\"work_location\"] = data[9]\n",
    "    features[\"variation\"] = data[10]\n",
    "    features[\"temperature\"] = data[11]\n",
    "    features[\"logpresteps\"] = data[12]\n",
    "    features[\"sqrt_totalsteps\"] = data[13]\n",
    "    features[\"prior_anti\"] = data[14]\n",
    "    features[\"dosage\"] = LAMBDA * dosage + features[\"prior_anti\"]\n",
    "\n",
    "    features[\"intercept\"] = 1\n",
    "\n",
    "    fs = np.array([features[k] for k in F_KEYS])\n",
    "    gs = np.array([features[k] for k in G_KEYS])\n",
    "\n",
    "    return availability, fs, gs, features[\"dosage\"]"
   ]
  },
  {
   "cell_type": "code",
   "execution_count": null,
   "metadata": {},
   "outputs": [],
   "source": [
    "def load_priors():\n",
    "    '''Load priors from RData file'''\n",
    "    robjects.r['load'](PRIOR_DATA_PATH)\n",
    "    priors = robjects.r['bandit.prior']\n",
    "    alpha_pmean = np.array(priors.rx2(\"mu1\"))\n",
    "    alpha_psd = np.array(priors.rx2(\"Sigma1\"))\n",
    "    beta_pmean = np.array(priors.rx2(\"mu2\"))\n",
    "    beta_psd = np.array(priors.rx2(\"Sigma2\"))\n",
    "    sigma = float(priors.rx2(\"sigma\")[0])\n",
    "\n",
    "    prior_sigma = linalg.block_diag(alpha_psd, beta_psd, beta_psd)\n",
    "    prior_mu = np.concatenate([alpha_pmean, beta_pmean, beta_pmean])\n",
    "\n",
    "    return prior_sigma, prior_mu, sigma"
   ]
  },
  {
   "cell_type": "code",
   "execution_count": null,
   "metadata": {},
   "outputs": [],
   "source": [
    "def get_priors_alpha_beta(post_mu, post_sigma):\n",
    "    '''Get alpha and beta priors from mu and sigma'''\n",
    "    alpha_pmean = post_mu[:len(G_KEYS)].flatten()\n",
    "    alpha_psd = post_sigma[:len(G_KEYS), :len(G_KEYS)]\n",
    "    beta_pmean = post_mu[-len(F_KEYS):].flatten()\n",
    "    beta_psd = post_sigma[-len(F_KEYS):, -len(F_KEYS):]\n",
    "\n",
    "    return alpha_pmean, alpha_psd, beta_pmean, beta_psd"
   ]
  },
  {
   "cell_type": "code",
   "execution_count": null,
   "metadata": {},
   "outputs": [],
   "source": [
    "def sample_lr_params(alpha_pmean, alpha_psd, beta_pmean, beta_psd, sigma):\n",
    "    '''Sample alpha, beta and noise from priors for BLR'''\n",
    "\n",
    "    alpha0 = np.random.multivariate_normal(alpha_pmean, alpha_psd)\n",
    "    alpha1 = np.random.multivariate_normal(beta_pmean, beta_psd)\n",
    "    beta = np.random.multivariate_normal(beta_pmean, beta_psd)\n",
    "    et = np.random.normal(0, np.sqrt(sigma**2))\n",
    "\n",
    "    return alpha0, alpha1, beta, et"
   ]
  },
  {
   "cell_type": "code",
   "execution_count": null,
   "metadata": {},
   "outputs": [],
   "source": [
    "def clip(x, eta = 0):\n",
    "    '''Clipping function'''\n",
    "    return min(1 - E0, max(x, E1))"
   ]
  },
  {
   "cell_type": "code",
   "execution_count": null,
   "metadata": {},
   "outputs": [],
   "source": [
    "def calculate_post_prob(fs, post_mu, post_sigma, eta = 0):\n",
    "    '''Calculate the posterior probability of Pr(fs * b > eta)'''\n",
    "\n",
    "    # Get beta's posterior mean and covariance\n",
    "    _, _, beta_pmean, beta_psd = get_priors_alpha_beta(post_mu, post_sigma)\n",
    "\n",
    "    # Calculate the mean of the fs*beta distribution\n",
    "    fs_beta_mean = fs.T.dot(beta_pmean)\n",
    "\n",
    "    # Calculate the variance of the fs*beta distribution\n",
    "    fs_beta_cov = fs.T @ beta_psd @ fs\n",
    "\n",
    "    # Calculate the probability of Pr(fs * b > eta) using cdf\n",
    "    post_prob = 1 - stats.norm.cdf(eta, fs_beta_mean, np.sqrt(fs_beta_cov))\n",
    "\n",
    "    # Clip the probability\n",
    "    phi_prob = clip(post_prob)\n",
    "    \n",
    "    return phi_prob"
   ]
  },
  {
   "cell_type": "code",
   "execution_count": null,
   "metadata": {},
   "outputs": [],
   "source": [
    "def calculate_reward(post_mu, post_sigma, fs, gs, sigma, action, prob):\n",
    "    '''Calculate the reward for a given action'''\n",
    "    # Get priors for alpha and beta\n",
    "    alpha_pmean, alpha_psd, beta_pmean, beta_psd = get_priors_alpha_beta(post_mu, post_sigma)\n",
    "\n",
    "    # Sample alpha, beta and noise\n",
    "    alpha0, alpha1, beta, et = sample_lr_params(alpha_pmean, alpha_psd, beta_pmean, beta_psd, sigma)\n",
    "\n",
    "    # Calculate reward\n",
    "    reward = gs @ alpha0 + (prob * (fs @ alpha1)) + (action - prob) * (fs @ beta) + et\n",
    "\n",
    "    return reward"
   ]
  },
  {
   "cell_type": "code",
   "execution_count": null,
   "metadata": {},
   "outputs": [],
   "source": [
    "def calculate_phi(prob_matrix, action_matrix, fs_matrix, gs_matrix):\n",
    "    '''Calculate phi for each user at each time point'''\n",
    "    Phi = np.expand_dims(np.hstack((gs_matrix, fs_matrix * prob_matrix.reshape(-1, 1), \\\n",
    "                (fs_matrix * (action_matrix - prob_matrix).reshape(-1, 1)))), axis=2)\n",
    "    return Phi"
   ]
  },
  {
   "cell_type": "code",
   "execution_count": null,
   "metadata": {},
   "outputs": [],
   "source": [
    "def calculate_post_sigma(prior_sigma, sigma, availability_matrix, Phi):\n",
    "    '''Calculate the posterior sigma'''\n",
    "\n",
    "    # Phi squared\n",
    "    Phi_square = np.multiply(Phi, Phi.transpose(0, 2, 1))\n",
    "\n",
    "    # Sum of availability times Phi squared\n",
    "    avail_phi_squared_sum = np.sum(np.multiply(availability_matrix.reshape(-1, 1, 1), Phi_square), axis=0) / (sigma**2)\n",
    "\n",
    "    # Posterior sigma\n",
    "    post_sigma = np.linalg.inv(np.linalg.inv(prior_sigma) + avail_phi_squared_sum)\n",
    "\n",
    "    return post_sigma"
   ]
  },
  {
   "cell_type": "code",
   "execution_count": null,
   "metadata": {},
   "outputs": [],
   "source": [
    "def calculate_post_mu(prior_sigma, prior_mu, sigma, availability_matrix, reward_matrix, Phi, post_sigma):\n",
    "    '''Calculate the posterior mu'''\n",
    "\n",
    "    # Product of prior sigma inverse and prior mu\n",
    "    sig_mu = (np.linalg.inv(prior_sigma) @ prior_mu.T).reshape(-1, 1)\n",
    "    \n",
    "    # Product of Phi and reward\n",
    "    Phi_reward = np.multiply(Phi, reward_matrix.reshape(-1, 1, 1))\n",
    "\n",
    "    # Sum of availability times Phi and reward\n",
    "    avail_phi_reward_sum = np.sum(np.multiply(availability_matrix.reshape(-1, 1, 1), Phi_reward), axis=0)\n",
    "\n",
    "    # Posterior mu\n",
    "    post_mu = (post_sigma @ (sig_mu + avail_phi_reward_sum)) / (sigma ** 2)\n",
    "\n",
    "    return post_mu"
   ]
  },
  {
   "cell_type": "code",
   "execution_count": null,
   "metadata": {},
   "outputs": [],
   "source": [
    "def calculate_posterior(prior_sigma, prior_mu, sigma, availability_matrix, prob_matrix, reward_matrix, action_matrix, fs_matrix, gs_matrix):\n",
    "    '''Calculate the posterior distribution'''\n",
    "    \n",
    "    # Calculate phi(s, a)\n",
    "    Phi = calculate_phi(prob_matrix, action_matrix, fs_matrix, gs_matrix)\n",
    "\n",
    "    # Calculate posterior sigma\n",
    "    post_sigma = calculate_post_sigma(prior_sigma, sigma, availability_matrix, Phi)\n",
    "\n",
    "    # Calculate posterior mu\n",
    "    post_mu = calculate_post_mu(prior_sigma, prior_mu, sigma, availability_matrix, reward_matrix, Phi, post_sigma)\n",
    "    \n",
    "    return post_mu, post_sigma\n"
   ]
  },
  {
   "cell_type": "code",
   "execution_count": null,
   "metadata": {},
   "outputs": [],
   "source": [
    "def select_action(p):\n",
    "    '''Select action from bernoulli distribution with probability p'''\n",
    "    return stats.bernoulli.rvs(p)"
   ]
  },
  {
   "cell_type": "code",
   "execution_count": null,
   "metadata": {},
   "outputs": [],
   "source": [
    "# Load data\n",
    "data = load_data()\n",
    "\n",
    "# Load priors\n",
    "prior_sigma, prior_mu, sigma = load_priors()\n",
    "\n",
    "# DS to store availability, probabilities, features, actions and rewards\n",
    "availability_matrix = np.zeros((NUSERS, NDAYS * NTIMES))\n",
    "prob_matrix = np.zeros((NUSERS, NDAYS * NTIMES))\n",
    "reward_matrix = np.zeros((NUSERS, NDAYS * NTIMES))\n",
    "action_matrix = np.zeros((NUSERS, NDAYS * NTIMES))\n",
    "fs_matrix = np.zeros((NUSERS, NDAYS * NTIMES, len(F_KEYS)))\n",
    "gs_matrix = np.zeros((NUSERS, NDAYS * NTIMES, len(G_KEYS)))\n",
    "\n",
    "\n",
    "for user in range(NUSERS):\n",
    "\n",
    "    # Initializing dosage to first dosage value (can be non-zero if user was already in the trial)\n",
    "    dosage = data[user][0][6]\n",
    "\n",
    "    # Posterior initialized using priors\n",
    "    post_sigma, post_mu = np.copy(prior_sigma), np.copy(prior_mu)\n",
    "\n",
    "    for day in range(NDAYS):\n",
    "\n",
    "        # loop for each decision time during the day\n",
    "        for time in range(NTIMES):\n",
    "\n",
    "            # Get the current timeslot\n",
    "            ts = (day) * 5 + time\n",
    "            \n",
    "            # State of the user at time ts\n",
    "            availability, fs, gs, dosage = determine_user_state(data[user][ts], dosage)\n",
    "\n",
    "            # Save user's availability\n",
    "            availability_matrix[user, ts] = availability\n",
    "            \n",
    "            # If user is available\n",
    "            if availability == 1:\n",
    "\n",
    "                # Calculate probability of (fs x beta) > n\n",
    "                prob_fsb = calculate_post_prob(fs, post_mu, post_sigma)\n",
    "                \n",
    "\n",
    "                # Sample action with probability prob_fsb from bernoulli distribution\n",
    "                action = select_action(prob_fsb)\n",
    "\n",
    "                # Bayesian LR to estimate reward\n",
    "                reward = calculate_reward(post_mu, post_sigma, fs, gs, sigma, action, prob_fsb)\n",
    "\n",
    "                # Save probability, features, action and reward\n",
    "                fs_matrix[user, ts] = fs\n",
    "                gs_matrix[user, ts] = gs\n",
    "                prob_matrix[user, ts] = prob_fsb\n",
    "                action_matrix[user, ts] = action\n",
    "                reward_matrix[user, ts] = reward\n",
    "            \n",
    "                # print(user, day, time, prob_fsb, action_matrix[user, ts])\n",
    "\n",
    "        # Update posterior\n",
    "        post_mu, post_sigma = calculate_posterior(prior_sigma, prior_mu, sigma, availability_matrix[user][:ts + 1], prob_matrix[user][:ts + 1], \n",
    "                                                    reward_matrix[user][:ts + 1], action_matrix[user][:ts + 1], fs_matrix[user][:ts + 1], gs_matrix[user][:ts + 1])"
   ]
  },
  {
   "cell_type": "code",
   "execution_count": null,
   "metadata": {},
   "outputs": [],
   "source": [
    "# data = load_data()\n",
    "\n",
    "# import pandas as pd\n",
    "\n",
    "# df = pd.DataFrame(columns=[\"Last Dosage\", \"Last action\", \"AS\", \"Next Dosage\"])\n",
    "\n",
    "# for user in range(1,2):\n",
    "#     for day in range(NDAYS):\n",
    "#         for time in range(NTIMES):\n",
    "#             ts = (day * 5) + time\n",
    "#             dosage = data[user][ts][6]\n",
    "#             if ts != 0:\n",
    "#                 last_dosage = data[user][ts - 2][6]\n",
    "#                 anti_sedentary = data[user][ts][14]\n",
    "#                 last_action = data[user][ts - 1][4]\n",
    "\n",
    "#                 # print(last_dosage, last_action, anti_sedentary, dosage)\n",
    "#                 df.loc[-1] = [last_dosage, last_action, anti_sedentary, dosage]\n",
    "#                 df.index = df.index + 1\n",
    "#                 newdosage = 0.95 * last_dosage\n",
    "#                 if last_action == 1. or anti_sedentary == 1.:\n",
    "#                     newdosage += 1.\n",
    "#                 print(ts, dosage, newdosage)\n",
    "#             # print(data[user][ts])\n",
    "#     break"
   ]
  },
  {
   "cell_type": "code",
   "execution_count": null,
   "metadata": {},
   "outputs": [],
   "source": [
    "# pd.set_option('display.max_rows', None)\n",
    "# print(df)"
   ]
  },
  {
   "cell_type": "code",
   "execution_count": null,
   "metadata": {},
   "outputs": [],
   "source": [
    "# pd.DataFrame(data[1, :100])[[4, 14, 6]]"
   ]
  },
  {
   "cell_type": "code",
   "execution_count": null,
   "metadata": {},
   "outputs": [],
   "source": []
  }
 ],
 "metadata": {
  "kernelspec": {
   "display_name": "Python 3.7.6 ('heartsteps')",
   "language": "python",
   "name": "python3"
  },
  "language_info": {
   "codemirror_mode": {
    "name": "ipython",
    "version": 3
   },
   "file_extension": ".py",
   "mimetype": "text/x-python",
   "name": "python",
   "nbconvert_exporter": "python",
   "pygments_lexer": "ipython3",
   "version": "3.7.7"
  },
  "orig_nbformat": 4,
  "vscode": {
   "interpreter": {
    "hash": "13c8aa5ca84d84b1eff6a50796abe4d89d2f98a257803d4f138445c9af5306f6"
   }
  }
 },
 "nbformat": 4,
 "nbformat_minor": 2
}
